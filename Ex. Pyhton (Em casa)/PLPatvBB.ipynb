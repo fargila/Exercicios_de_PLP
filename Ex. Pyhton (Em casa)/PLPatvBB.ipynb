{
  "cells": [
    {
      "cell_type": "markdown",
      "metadata": {
        "id": "a5nA-ZySRndH"
      },
      "source": [
        "Faça um programa em Python para gerar automaticamente numeros entre 0 e 99 de uma cartela de bingo. Sabendo que cada cartela devera conter 5 linhas de 5 numeros, gere estes dados de modo a nao ter numeros repetidos dentro das cartelas. O programa deve exibir na\n",
        "tela a cartela gerada."
      ]
    },
    {
      "cell_type": "code",
      "execution_count": 31,
      "metadata": {
        "colab": {
          "base_uri": "https://localhost:8080/"
        },
        "id": "6WVzt7XDRrU_",
        "outputId": "cc5ec733-d30d-427c-ccfd-0040b6adcaf6"
      },
      "outputs": [
        {
          "name": "stdout",
          "output_type": "stream",
          "text": [
            "Cartela de bingo:\n",
            "\n",
            "49\t91\t77\t11\t81\t\n",
            "\n",
            "72\t54\t7\t76\t25\t\n",
            "\n",
            "33\t6\t46\t37\t18\t\n",
            "\n",
            "93\t1\t31\t62\t20\t\n",
            "\n",
            "47\t44\t69\t41\t12\t\n",
            "\n"
          ]
        }
      ],
      "source": [
        "import random\n",
        "\n",
        "def gerar_cartela():\n",
        "    #identação das variáveis numeros e cartela >>\n",
        "    numeros = set()\n",
        "    cartela = [[] for a in range(5)]\n",
        "\n",
        "    # Construção da matriz 'cartela' por colunas >>\n",
        "    for coluna in cartela:\n",
        "        for a in range(5):\n",
        "            numero = random.randint(0, 99)\n",
        "            while numero in numeros:\n",
        "                numero = random.randint(0, 99)\n",
        "            numeros.add(numero)\n",
        "            coluna.append(numero)\n",
        "    return cartela\n",
        "\n",
        "def main():\n",
        "    # Chamada da função >>\n",
        "    cartela = gerar_cartela()\n",
        "    print(\"Cartela de bingo:\\n\")\n",
        "\n",
        "    # Print da cartela >>\n",
        "    for i in range(5):\n",
        "        for linha in cartela:\n",
        "            print(linha[i], end=\"\\t\")\n",
        "        print(\"\\n\")\n",
        "\n",
        "\n",
        "if __name__ == \"__main__\":\n",
        "    main()"
      ]
    },
    {
      "cell_type": "markdown",
      "metadata": {
        "id": "iHnhWKBfcLwR"
      },
      "source": [
        "Faça um programa em Python que receba 6 numeros inteiros e mostre:\n",
        "<ul>\n",
        "  <li>Os numeros pares digitados;</li>\n",
        "  <li>A soma dos numeros pares digitados;</li>\n",
        "  <li>Os numeros   ımpares digitados;</li>\n",
        "  <li>A quantidade de numeros  ımpares.</li>\n",
        "<ul>"
      ]
    },
    {
      "cell_type": "code",
      "execution_count": 23,
      "metadata": {
        "colab": {
          "base_uri": "https://localhost:8080/"
        },
        "id": "lckvScl2cZl1",
        "outputId": "3d7d23fb-6ee0-4072-b90e-41a5b18ca8fc"
      },
      "outputs": [
        {
          "name": "stdout",
          "output_type": "stream",
          "text": [
            "Digite um número: 65\n",
            "Digite um número: 34\n",
            "Digite um número: 33\n",
            "Digite um número: 1\n",
            "Digite um número: 2\n",
            "Digite um número: 87\n",
            "\n",
            "Os números pares digitados são: 34, 2\n",
            "A soma dos números pares digitados é: 36\n",
            "\n",
            "Os números ímpares digitados são: 65, 33, 1, 87\n",
            "A quantidade de números ímpares digitados é: 4\n"
          ]
        }
      ],
      "source": [
        "def main():\n",
        "\n",
        "    # Cria os vetores para os números que vão ser inputados pelo usuário, a qtd\n",
        "    # de números pares e ímpares respectivamente. Además a variável para a soma\n",
        "    # dos pares >>\n",
        "    numeros = []\n",
        "    numeros_pares = []\n",
        "    numeros_impares = []\n",
        "    soma_pares = 0\n",
        "\n",
        "    # Adição de 6 números aleatórios digitados pelo usuário >>\n",
        "    for i in range(6):\n",
        "        numeros.append(int(input(\"Digite um número: \")))\n",
        "\n",
        "    # Define quais números são pares ou ímpares e os adiciona nos seus respecti-\n",
        "    # vetores >>\n",
        "    for numero in numeros:\n",
        "        if numero % 2 == 0:\n",
        "            numeros_pares.append(numero)\n",
        "            soma_pares += numero\n",
        "        else:\n",
        "            numeros_impares.append(numero)\n",
        "\n",
        "    # Ao final, printa os valores de cada vetor e a soma total dos números\n",
        "    # pares >>\n",
        "    mensagem = \"\\nOs números pares digitados são:\"\n",
        "    for numero in numeros_pares:\n",
        "        mensagem += f\" {numero},\"\n",
        "    mensagem = mensagem.rstrip(',')\n",
        "    print(mensagem)\n",
        "\n",
        "    print(\"A soma dos números pares digitados é:\", soma_pares)\n",
        "\n",
        "    mensagem2 = \"\\nOs números ímpares digitados são:\"\n",
        "    for numero in numeros_impares:\n",
        "       mensagem2 += f\" {numero},\"\n",
        "    mensagem2 = mensagem2.rstrip(',')\n",
        "    print(mensagem2)\n",
        "\n",
        "    print(\"A quantidade de números ímpares digitados é:\", len(numeros_impares))\n",
        "\n",
        "\n",
        "if __name__ == \"__main__\":\n",
        "    main()\n"
      ]
    },
    {
      "cell_type": "markdown",
      "metadata": {
        "id": "oheNqlffcf_h"
      },
      "source": [
        "Construa um dicionário com nome, salariobruto, salario liquido,\n",
        "para número indeterminado de pessoas, nele será calculado o\n",
        "desconto de 8% do INSS e de 10% para IRPF. Preciso que o\n",
        "programa seja escrito na Linguagem Python de forma Otimizada.."
      ]
    },
    {
      "cell_type": "code",
      "execution_count": null,
      "metadata": {
        "colab": {
          "base_uri": "https://localhost:8080/"
        },
        "id": "c-JrkaXzcpCZ",
        "outputId": "a4178331-1b52-4175-c8f0-9ea0940dbb7a"
      },
      "outputs": [
        {
          "name": "stdout",
          "output_type": "stream",
          "text": [
            "Digite o nome: aa\n",
            "Digite o salário bruto: 44\n",
            "Deseja continuar? (s/n): s\n",
            "Digite o nome: 67\n",
            "Digite o salário bruto: 221\n",
            "Deseja continuar? (s/n): g\n",
            "Valor inválido! Por favor, digite apenas 's' para SIM e 'n' para NÃO.\n",
            "Deseja continuar? (s/n): n\n",
            "Folha de Pagamento:\n",
            "Nome: aa\n",
            "Salário Bruto: R$44.00\n",
            "Desconto INSS: R$3.52\n",
            "Desconto IRPF: R$0.00\n",
            "Salário Líquido: R$40.48\n",
            "\n",
            "Nome: 67\n",
            "Salário Bruto: R$221.00\n",
            "Desconto INSS: R$17.68\n",
            "Desconto IRPF: R$0.00\n",
            "Salário Líquido: R$203.32\n",
            "\n"
          ]
        }
      ],
      "source": [
        "# Função para calcular o inss, irpf e salario_liquido >>\n",
        "def calcular_descontos_salario(salario_bruto):\n",
        "    inss = salario_bruto * 0.08\n",
        "    irpf = salario_bruto * 0.10 if salario_bruto > 1903.98 else 0\n",
        "    salario_liquido = salario_bruto - inss - irpf\n",
        "    return inss, irpf, salario_liquido\n",
        "\n",
        "def main():\n",
        "    folha_de_pagamento = {}\n",
        "\n",
        "    # Valores 'nome' e 'salario_bruto' para serem digitados pelo usuário e postos\n",
        "    # no vetor 'folha_de_pagamento' >>\n",
        "    while True:\n",
        "        nome = input(\"Digite o nome: \")\n",
        "        salario_bruto = float(input(\"Digite o salário bruto: \"))\n",
        "\n",
        "        inss, irpf, salario_liquido = calcular_descontos_salario(salario_bruto)\n",
        "\n",
        "        folha_de_pagamento[nome] = {\n",
        "            \"salario_bruto\": salario_bruto,\n",
        "            \"desconto_inss\": inss,\n",
        "            \"desconto_irpf\": irpf,\n",
        "            \"salario_liquido\": salario_liquido,\n",
        "        }\n",
        "\n",
        "        # Método criado para caso o usuário digite acidentalmente outro valor além de 's' ou 'n' >>\n",
        "        while True:\n",
        "            continuar = input(\"Deseja continuar? (s/n): \")\n",
        "            if continuar in ['s', 'n']:\n",
        "                break\n",
        "            else:\n",
        "                print(\"Valor inválido! Por favor, digite apenas 's' para SIM e 'n' para NÃO.\")\n",
        "\n",
        "        if continuar == 'n':\n",
        "            break\n",
        "\n",
        "    # Imprimir a Folha de Pagamento no terminal >>\n",
        "    print(\"[Folha de Pagamento]:\")\n",
        "    for nome, dados in folha_de_pagamento.items():\n",
        "        print(f\"Nome: {nome}\")\n",
        "        print(f\"Salário Bruto: R${dados['salario_bruto']:.2f}\")\n",
        "        print(f\"Desconto INSS: R${dados['desconto_inss']:.2f}\")\n",
        "        print(f\"Desconto IRPF: R${dados['desconto_irpf']:.2f}\")\n",
        "        print(f\"Salário Líquido: R${dados['salario_liquido']:.2f}\")\n",
        "        print()\n",
        "\n",
        "if __name__ == \"__main__\":\n",
        "    main()\n"
      ]
    },
    {
      "cell_type": "markdown",
      "metadata": {
        "id": "wlYOfjEXcvZF"
      },
      "source": [
        "Crie um dicionário que é uma agenda e coloque nele os seguintes dados: chave (cpf),\n",
        "nome, idade, telefone. O programa deve ler um número indeterminado de dados, criar a agenda e imprimir todos os itens do dicionário no formato chave: nome, idade, fone."
      ]
    },
    {
      "cell_type": "code",
      "execution_count": 34,
      "metadata": {
        "colab": {
          "base_uri": "https://localhost:8080/"
        },
        "id": "0wIqpgdcc1M5",
        "outputId": "a31a823b-4e08-4e02-8fd6-5076ac2312db"
      },
      "outputs": [
        {
          "name": "stdout",
          "output_type": "stream",
          "text": [
            "Digite o CPF: 234\n",
            "Digite o nome: asf\n",
            "Digite a idade: 32\n",
            "Digite o telefone: 22222\n",
            "Deseja continuar? (s/n): s\n",
            "Digite o CPF: 55223\n",
            "Digite o nome: ffa\n",
            "Digite a idade: 23\n",
            "Digite o telefone: 555555\n",
            "Deseja continuar? (s/n): n\n",
            "Agenda de Contatos:\n",
            "CPF: 234\n",
            "Nome: asf\n",
            "Idade: 32\n",
            "Telefone: 22222\n",
            "\n",
            "CPF: 55223\n",
            "Nome: ffa\n",
            "Idade: 23\n",
            "Telefone: 555555\n",
            "\n"
          ]
        }
      ],
      "source": [
        "def main():\n",
        "    # Cria um dicionário vazio\n",
        "    agenda = {}\n",
        "\n",
        "    # Lê os dados da agenda\n",
        "    while True:\n",
        "        cpf = input(\"Digite o CPF: \")\n",
        "        nome = input(\"Digite o nome: \")\n",
        "        idade = input(\"Digite a idade: \")\n",
        "        telefone = input(\"Digite o telefone: \")\n",
        "\n",
        "        # Adiciona os dados ao dicionário\n",
        "        agenda[cpf] = {\n",
        "            \"nome\": nome,\n",
        "            \"idade\": idade,\n",
        "            \"telefone\": telefone,\n",
        "        }\n",
        "\n",
        "        # Pergunta se o usuário deseja continuar\n",
        "        while True:\n",
        "            continuar = input(\"Deseja continuar? (s/n): \")\n",
        "            if continuar in ['s', 'n']:\n",
        "                break\n",
        "            else:\n",
        "                print(\"Valor inválido! Por favor, digite apenas 's' para SIM e 'n' para NÃO.\")\n",
        "\n",
        "        if continuar == 'n':\n",
        "            break\n",
        "    # Imprime os itens do dicionário\n",
        "    print(\"\\n[Agenda de Contatos]:\")\n",
        "    for cpf, contato in agenda.items():\n",
        "        print(f\"CPF: {cpf}\")\n",
        "        print(f\"Nome: {contato['nome']}\")\n",
        "        print(f\"Idade: {contato['idade']}\")\n",
        "        print(f\"Telefone: {contato['telefone']}\")\n",
        "        print()\n",
        "\n",
        "\n",
        "if __name__ == \"__main__\":\n",
        "    main()"
      ]
    },
    {
      "cell_type": "markdown",
      "metadata": {
        "id": "quJfRMzJc7Uq"
      },
      "source": [
        "Faça um Programa em Python que Leia uma matriz 10 x 3 com as notas de 10 alunos em 3 provas. Em seguida, escreva o numero de alunos cuja pior nota foi na prova 1, o número de alunos cuja pior nota foi na prova 2, e o numero de alunos cuja pior nota foi na prova 3. Em caso de empate das piores notas de um aluno, o critério de desempate é arbitrário, mas o aluno deve ser contabilizado apenas uma vez.\n"
      ]
    },
    {
      "cell_type": "code",
      "execution_count": 19,
      "metadata": {
        "colab": {
          "base_uri": "https://localhost:8080/",
          "height": 355
        },
        "id": "5zN-8Hdvc9Au",
        "outputId": "89378ca2-5047-4457-c53d-788e9599829a"
      },
      "outputs": [
        {
          "ename": "KeyboardInterrupt",
          "evalue": "ignored",
          "output_type": "error",
          "traceback": [
            "\u001b[0;31m---------------------------------------------------------------------------\u001b[0m",
            "\u001b[0;31mKeyboardInterrupt\u001b[0m                         Traceback (most recent call last)",
            "\u001b[0;32m<ipython-input-19-baee320a14fc>\u001b[0m in \u001b[0;36m<cell line: 38>\u001b[0;34m()\u001b[0m\n\u001b[1;32m     37\u001b[0m \u001b[0;34m\u001b[0m\u001b[0m\n\u001b[1;32m     38\u001b[0m \u001b[0;32mif\u001b[0m \u001b[0m__name__\u001b[0m \u001b[0;34m==\u001b[0m \u001b[0;34m\"__main__\"\u001b[0m\u001b[0;34m:\u001b[0m\u001b[0;34m\u001b[0m\u001b[0;34m\u001b[0m\u001b[0m\n\u001b[0;32m---> 39\u001b[0;31m     \u001b[0mmain\u001b[0m\u001b[0;34m(\u001b[0m\u001b[0;34m)\u001b[0m\u001b[0;34m\u001b[0m\u001b[0;34m\u001b[0m\u001b[0m\n\u001b[0m",
            "\u001b[0;32m<ipython-input-19-baee320a14fc>\u001b[0m in \u001b[0;36mmain\u001b[0;34m()\u001b[0m\n\u001b[1;32m      6\u001b[0m     \u001b[0;32mfor\u001b[0m \u001b[0mi\u001b[0m \u001b[0;32min\u001b[0m \u001b[0mrange\u001b[0m\u001b[0;34m(\u001b[0m\u001b[0;36m10\u001b[0m\u001b[0;34m)\u001b[0m\u001b[0;34m:\u001b[0m\u001b[0;34m\u001b[0m\u001b[0;34m\u001b[0m\u001b[0m\n\u001b[1;32m      7\u001b[0m         \u001b[0mx\u001b[0m \u001b[0;34m=\u001b[0m \u001b[0mi\u001b[0m\u001b[0;34m+\u001b[0m\u001b[0;36m1\u001b[0m\u001b[0;34m\u001b[0m\u001b[0;34m\u001b[0m\u001b[0m\n\u001b[0;32m----> 8\u001b[0;31m         matriz.append([int(input(\"Digite a nota do %dº aluno na prova 1: \" %x)),\n\u001b[0m\u001b[1;32m      9\u001b[0m                       \u001b[0mint\u001b[0m\u001b[0;34m(\u001b[0m\u001b[0minput\u001b[0m\u001b[0;34m(\u001b[0m\u001b[0;34m\"Digite a nota do %dº aluno na prova 2: \"\u001b[0m \u001b[0;34m%\u001b[0m\u001b[0mx\u001b[0m\u001b[0;34m)\u001b[0m\u001b[0;34m)\u001b[0m\u001b[0;34m,\u001b[0m\u001b[0;34m\u001b[0m\u001b[0;34m\u001b[0m\u001b[0m\n\u001b[1;32m     10\u001b[0m                       int(input(\"Digite a nota do %dº aluno na prova 3: \" %x))])\n",
            "\u001b[0;32m/usr/local/lib/python3.10/dist-packages/ipykernel/kernelbase.py\u001b[0m in \u001b[0;36mraw_input\u001b[0;34m(self, prompt)\u001b[0m\n\u001b[1;32m    849\u001b[0m                 \u001b[0;34m\"raw_input was called, but this frontend does not support input requests.\"\u001b[0m\u001b[0;34m\u001b[0m\u001b[0;34m\u001b[0m\u001b[0m\n\u001b[1;32m    850\u001b[0m             )\n\u001b[0;32m--> 851\u001b[0;31m         return self._input_request(str(prompt),\n\u001b[0m\u001b[1;32m    852\u001b[0m             \u001b[0mself\u001b[0m\u001b[0;34m.\u001b[0m\u001b[0m_parent_ident\u001b[0m\u001b[0;34m,\u001b[0m\u001b[0;34m\u001b[0m\u001b[0;34m\u001b[0m\u001b[0m\n\u001b[1;32m    853\u001b[0m             \u001b[0mself\u001b[0m\u001b[0;34m.\u001b[0m\u001b[0m_parent_header\u001b[0m\u001b[0;34m,\u001b[0m\u001b[0;34m\u001b[0m\u001b[0;34m\u001b[0m\u001b[0m\n",
            "\u001b[0;32m/usr/local/lib/python3.10/dist-packages/ipykernel/kernelbase.py\u001b[0m in \u001b[0;36m_input_request\u001b[0;34m(self, prompt, ident, parent, password)\u001b[0m\n\u001b[1;32m    893\u001b[0m             \u001b[0;32mexcept\u001b[0m \u001b[0mKeyboardInterrupt\u001b[0m\u001b[0;34m:\u001b[0m\u001b[0;34m\u001b[0m\u001b[0;34m\u001b[0m\u001b[0m\n\u001b[1;32m    894\u001b[0m                 \u001b[0;31m# re-raise KeyboardInterrupt, to truncate traceback\u001b[0m\u001b[0;34m\u001b[0m\u001b[0;34m\u001b[0m\u001b[0m\n\u001b[0;32m--> 895\u001b[0;31m                 \u001b[0;32mraise\u001b[0m \u001b[0mKeyboardInterrupt\u001b[0m\u001b[0;34m(\u001b[0m\u001b[0;34m\"Interrupted by user\"\u001b[0m\u001b[0;34m)\u001b[0m \u001b[0;32mfrom\u001b[0m \u001b[0;32mNone\u001b[0m\u001b[0;34m\u001b[0m\u001b[0;34m\u001b[0m\u001b[0m\n\u001b[0m\u001b[1;32m    896\u001b[0m             \u001b[0;32mexcept\u001b[0m \u001b[0mException\u001b[0m \u001b[0;32mas\u001b[0m \u001b[0me\u001b[0m\u001b[0;34m:\u001b[0m\u001b[0;34m\u001b[0m\u001b[0;34m\u001b[0m\u001b[0m\n\u001b[1;32m    897\u001b[0m                 \u001b[0mself\u001b[0m\u001b[0;34m.\u001b[0m\u001b[0mlog\u001b[0m\u001b[0;34m.\u001b[0m\u001b[0mwarning\u001b[0m\u001b[0;34m(\u001b[0m\u001b[0;34m\"Invalid Message:\"\u001b[0m\u001b[0;34m,\u001b[0m \u001b[0mexc_info\u001b[0m\u001b[0;34m=\u001b[0m\u001b[0;32mTrue\u001b[0m\u001b[0;34m)\u001b[0m\u001b[0;34m\u001b[0m\u001b[0;34m\u001b[0m\u001b[0m\n",
            "\u001b[0;31mKeyboardInterrupt\u001b[0m: Interrupted by user"
          ]
        }
      ],
      "source": [
        "def main():\n",
        "    # Cria uma matriz vazia >>\n",
        "    matriz = []\n",
        "\n",
        "    # Faz com que o usuário insira as três notas de 10 alunos >>\n",
        "    for i in range(10):\n",
        "        x = i+1\n",
        "        matriz.append([int(input(\"Digite a nota do %dº aluno na prova 1: \" %x)),\n",
        "                      int(input(\"Digite a nota do %dº aluno na prova 2: \" %x)),\n",
        "                      int(input(\"Digite a nota do %dº aluno na prova 3: \" %x))])\n",
        "\n",
        "    alunos_prova_1 = 0\n",
        "    alunos_prova_2 = 0\n",
        "    alunos_prova_3 = 0\n",
        "\n",
        "    # Realiza uma busca no vetor 'matriz' para descobir a quantidade de alunos\n",
        "    # com a pior nota >>\n",
        "    for aluno in matriz:\n",
        "        pior_nota = aluno[0]\n",
        "        if pior_nota > aluno[1]:\n",
        "            pior_nota = aluno[1]\n",
        "        if pior_nota > aluno[2]:\n",
        "            pior_nota = aluno[2]\n",
        "\n",
        "        if pior_nota == aluno[0]:\n",
        "            alunos_prova_1 += 1\n",
        "        elif pior_nota == aluno[1]:\n",
        "            alunos_prova_2 += 1\n",
        "        else:\n",
        "            alunos_prova_3 += 1\n",
        "\n",
        "    # Printa, respectivamente às provas, o numero de alunos com a pior nota >>\n",
        "    print(\"O número de alunos cuja pior nota foi na prova 1 é:\", alunos_prova_1)\n",
        "    print(\"O número de alunos cuja pior nota foi na prova 2 é:\", alunos_prova_2)\n",
        "    print(\"O número de alunos cuja pior nota foi na prova 3 é:\", alunos_prova_3)\n",
        "\n",
        "\n",
        "if __name__ == \"__main__\":\n",
        "    main()\n"
      ]
    }
  ],
  "metadata": {
    "colab": {
      "provenance": []
    },
    "kernelspec": {
      "display_name": "Python 3",
      "name": "python3"
    },
    "language_info": {
      "name": "python"
    }
  },
  "nbformat": 4,
  "nbformat_minor": 0
}
